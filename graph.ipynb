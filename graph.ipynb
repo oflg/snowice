{
 "cells": [
  {
   "cell_type": "code",
   "execution_count": 1,
   "metadata": {},
   "outputs": [
    {
     "name": "stderr",
     "output_type": "stream",
     "text": [
      "\u001b[32m\u001b[1m  Activating\u001b[22m\u001b[39m project at `~/Code/ucas/论文/雪冰科学数据中心`\n",
      "\u001b[32m\u001b[1m    Updating\u001b[22m\u001b[39m registry at `~/.julia/registries/General.toml`\n",
      "\u001b[32m\u001b[1m   Resolving\u001b[22m\u001b[39m package versions...\n",
      "\u001b[32m\u001b[1m   Installed\u001b[22m\u001b[39m EpollShim_jll ─ v0.0.20230411+0\n",
      "\u001b[32m\u001b[1m  No Changes\u001b[22m\u001b[39m to `~/Code/ucas/论文/雪冰科学数据中心/Project.toml`\n",
      "\u001b[32m\u001b[1m    Updating\u001b[22m\u001b[39m `~/Code/ucas/论文/雪冰科学数据中心/Manifest.toml`\n",
      "  \u001b[90m[2702e6a9] \u001b[39m\u001b[92m+ EpollShim_jll v0.0.20230411+0\u001b[39m\n",
      "  \u001b[90m[b27032c2] \u001b[39m\u001b[93m↑ LibCURL v0.6.3 ⇒ v0.6.4\u001b[39m\n",
      "  \u001b[90m[deac9b47] \u001b[39m\u001b[93m↑ LibCURL_jll v7.84.0+0 ⇒ v8.4.0+0\u001b[39m\n",
      "  \u001b[90m[29816b5a] \u001b[39m\u001b[93m↑ LibSSH2_jll v1.10.2+0 ⇒ v1.11.0+1\u001b[39m\n",
      "  \u001b[90m[8e850ede] \u001b[39m\u001b[93m↑ nghttp2_jll v1.48.0+0 ⇒ v1.52.0+1\u001b[39m\n",
      "\u001b[32m\u001b[1mPrecompiling\u001b[22m\u001b[39m project...\n",
      "\u001b[32m  ✓ \u001b[39m\u001b[90mEpollShim_jll\u001b[39m\n",
      "  1 dependency successfully precompiled in 1 seconds. 167 already precompiled. 2 skipped during auto due to previous errors.\n"
     ]
    }
   ],
   "source": [
    "# 安装环境\n",
    "using Pkg\n",
    "Pkg.activate(@__DIR__)\n",
    "# Pkg.add(\"StatsBase\")\n",
    "Pkg.add(\"VegaLite\")\n",
    "Pkg.instantiate()\n",
    "\n",
    "using CSV, DataFrames, VegaLite"
   ]
  },
  {
   "cell_type": "code",
   "execution_count": 2,
   "metadata": {},
   "outputs": [
    {
     "data": {
      "text/html": [
       "<div><div style = \"float: left;\"><span>3×18 DataFrame</span></div><div style = \"clear: both;\"></div></div><div class = \"data-frame\" style = \"overflow-x: scroll;\"><table class = \"data-frame\" style = \"margin-bottom: 6px;\"><thead><tr class = \"header\"><th class = \"rowNumber\" style = \"font-weight: bold; text-align: right;\">Row</th><th style = \"text-align: left;\">orgIdentifier</th><th style = \"text-align: left;\">name</th><th style = \"text-align: left;\">repositoryURL</th><th style = \"text-align: left;\">country</th><th style = \"text-align: left;\">institutions</th><th style = \"text-align: left;\">institutionCount</th><th style = \"text-align: left;\">policies</th><th style = \"text-align: left;\">policyCount</th><th style = \"text-align: left;\">entryDate</th><th style = \"text-align: left;\">lastUpdate</th><th style = \"text-align: left;\">contentTypes</th><th style = \"text-align: left;\">contentTypeCount</th><th style = \"text-align: left;\">pidSystems</th><th style = \"text-align: left;\">pidSystemCount</th><th style = \"text-align: left;\">apis</th><th style = \"text-align: left;\">apiCount</th><th style = \"text-align: left;\">dataAccesses</th><th style = \"text-align: left;\">dataAccessCount</th></tr><tr class = \"subheader headerLastRow\"><th class = \"rowNumber\" style = \"font-weight: bold; text-align: right;\"></th><th title = \"String15\" style = \"text-align: left;\">String15</th><th title = \"String\" style = \"text-align: left;\">String</th><th title = \"String\" style = \"text-align: left;\">String</th><th title = \"String7\" style = \"text-align: left;\">String7</th><th title = \"String\" style = \"text-align: left;\">String</th><th title = \"Int64\" style = \"text-align: left;\">Int64</th><th title = \"Union{Missing, String}\" style = \"text-align: left;\">String?</th><th title = \"Int64\" style = \"text-align: left;\">Int64</th><th title = \"Dates.Date\" style = \"text-align: left;\">Date</th><th title = \"Dates.Date\" style = \"text-align: left;\">Date</th><th title = \"String\" style = \"text-align: left;\">String</th><th title = \"Int64\" style = \"text-align: left;\">Int64</th><th title = \"Union{Missing, String15}\" style = \"text-align: left;\">String15?</th><th title = \"Int64\" style = \"text-align: left;\">Int64</th><th title = \"Union{Missing, String31}\" style = \"text-align: left;\">String31?</th><th title = \"Int64\" style = \"text-align: left;\">Int64</th><th title = \"String\" style = \"text-align: left;\">String</th><th title = \"Int64\" style = \"text-align: left;\">Int64</th></tr></thead><tbody><tr><td class = \"rowNumber\" style = \"font-weight: bold; text-align: right;\">1</td><td style = \"text-align: left;\">r3d100010110</td><td style = \"text-align: left;\">国家冰雪数据中心</td><td style = \"text-align: left;\">https://nsidc.org/data/</td><td style = \"text-align: left;\">美国</td><td style = \"text-align: left;\">环境科学研究所、国家冰雪数据中心（一般；技术）； EarthCube 数据设施委员会（一般）；美国国家航空航天局（基金）；国家海洋和大气管理局（资金；一般）；国家科学基金（基金）；科罗拉多大学博尔德分校（基金；一般）</td><td style = \"text-align: right;\">6</td><td style = \"text-align: left;\">https://www.coretrustseal.org/wp-content/uploads/2020/03/WDC-NSIDC.pdf; https://nsidc.org/privacy.html</td><td style = \"text-align: right;\">2</td><td style = \"text-align: left;\">2012-11-21</td><td style = \"text-align: left;\">2021-06-29</td><td style = \"text-align: left;\">图片;原始数据;科学和统计数据格式；结构化图形；结构化文本</td><td style = \"text-align: right;\">5</td><td style = \"text-align: left;\">DOI</td><td style = \"text-align: right;\">1</td><td style = \"text-align: left;\">FTP; OpenDAP; other</td><td style = \"text-align: right;\">3</td><td style = \"text-align: left;\">开放\\n    ;\\n    受限\\n    机构会员资格\\n    其他\\n    注册</td><td style = \"text-align: right;\">2</td></tr><tr><td class = \"rowNumber\" style = \"font-weight: bold; text-align: right;\">2</td><td style = \"text-align: left;\">r3d100010457</td><td style = \"text-align: left;\">剑桥世界冰川学数据中心</td><td style = \"text-align: left;\">https://www.spri.cam.ac.uk/library/catalogue/sprilib/icesnow/</td><td style = \"text-align: left;\">英国</td><td style = \"text-align: left;\">英国皇家学会（基金）；剑桥大学斯科特极地研究所图书馆（一般；技术）；世界冰川学数据中心（一般）</td><td style = \"text-align: right;\">3</td><td style = \"text-align: left;\">https://www.spri.cam.ac.uk/archives/policy/</td><td style = \"text-align: right;\">1</td><td style = \"text-align: left;\">2013-09-09</td><td style = \"text-align: left;\">2021-06-08</td><td style = \"text-align: left;\">视听数据；数据库；图片;标准办公文件</td><td style = \"text-align: right;\">4</td><td style = \"font-style: italic; text-align: left;\">missing</td><td style = \"text-align: right;\">1</td><td style = \"font-style: italic; text-align: left;\">missing</td><td style = \"text-align: right;\">0</td><td style = \"text-align: left;\">开放\\n    ;\\n    受限\\n    注册</td><td style = \"text-align: right;\">2</td></tr><tr><td class = \"rowNumber\" style = \"font-weight: bold; text-align: right;\">3</td><td style = \"text-align: left;\">r3d100013754</td><td style = \"text-align: left;\">国家冰川冻土沙漠科学数据中心</td><td style = \"text-align: left;\">http://www.ncdc.ac.cn</td><td style = \"text-align: left;\">中国</td><td style = \"text-align: left;\">中国科学院山地灾害与环境研究所（一般）；中国科学院西北生态环境资源研究院（一般）；中国科学院青海盐湖研究所（一般）；中国科学院新疆生态与地理研究所（一般）</td><td style = \"text-align: right;\">4</td><td style = \"font-style: italic; text-align: left;\">missing</td><td style = \"text-align: right;\">0</td><td style = \"text-align: left;\">2022-02-22</td><td style = \"text-align: left;\">2022-02-24</td><td style = \"text-align: left;\">存档数据；图片;纯文本;科学和统计数据格式；源代码;标准办公文件；结构化图形</td><td style = \"text-align: right;\">7</td><td style = \"text-align: left;\">DOI；其他</td><td style = \"text-align: right;\">2</td><td style = \"text-align: left;\">FTP</td><td style = \"text-align: right;\">1</td><td style = \"text-align: left;\">受限\\n    其他</td><td style = \"text-align: right;\">1</td></tr></tbody></table></div>"
      ],
      "text/latex": [
       "\\begin{tabular}{r|cccc}\n",
       "\t& orgIdentifier & name & repositoryURL & \\\\\n",
       "\t\\hline\n",
       "\t& String15 & String & String & \\\\\n",
       "\t\\hline\n",
       "\t1 & r3d100010110 & 国家冰雪数据中心 & https://nsidc.org/data/ & $\\dots$ \\\\\n",
       "\t2 & r3d100010457 & 剑桥世界冰川学数据中心 & https://www.spri.cam.ac.uk/library/catalogue/sprilib/icesnow/ & $\\dots$ \\\\\n",
       "\t3 & r3d100013754 & 国家冰川冻土沙漠科学数据中心 & http://www.ncdc.ac.cn & $\\dots$ \\\\\n",
       "\\end{tabular}\n"
      ],
      "text/plain": [
       "\u001b[1m3×18 DataFrame\u001b[0m\n",
       "\u001b[1m Row \u001b[0m│\u001b[1m orgIdentifier \u001b[0m\u001b[1m name                         \u001b[0m\u001b[1m repositoryURL             \u001b[0m ⋯\n",
       "     │\u001b[90m String15      \u001b[0m\u001b[90m String                       \u001b[0m\u001b[90m String                    \u001b[0m ⋯\n",
       "─────┼──────────────────────────────────────────────────────────────────────────\n",
       "   1 │ r3d100010110   国家冰雪数据中心              https://nsidc.org/data/    ⋯\n",
       "   2 │ r3d100010457   剑桥世界冰川学数据中心        https://www.spri.cam.ac.uk\n",
       "   3 │ r3d100013754   国家冰川冻土沙漠科学数据中心  http://www.ncdc.ac.cn\n",
       "\u001b[36m                                                              16 columns omitted\u001b[0m"
      ]
     },
     "metadata": {},
     "output_type": "display_data"
    }
   ],
   "source": [
    "df = CSV.read(joinpath(@__DIR__, \"data\", \"snow_ice_policy_mo.csv\"), DataFrame)\n",
    "first(df, 3)"
   ]
  },
  {
   "cell_type": "code",
   "execution_count": 3,
   "metadata": {},
   "outputs": [
    {
     "data": {
      "application/vnd.vegalite.v5+json": {
       "data": {
        "values": [
         {
          "apiCount": 3,
          "apis": "FTP; OpenDAP; other",
          "contentTypeCount": 5,
          "contentTypes": "图片;原始数据;科学和统计数据格式；结构化图形；结构化文本",
          "country": "美国",
          "dataAccessCount": 2,
          "dataAccesses": "开放\n    ;\n    受限\n    机构会员资格\n    其他\n    注册",
          "entryDate": "2012-11-21",
          "institutionCount": 6,
          "institutions": "环境科学研究所、国家冰雪数据中心（一般；技术）； EarthCube 数据设施委员会（一般）；美国国家航空航天局（基金）；国家海洋和大气管理局（资金；一般）；国家科学基金（基金）；科罗拉多大学博尔德分校（基金；一般）",
          "lastUpdate": "2021-06-29",
          "name": "国家冰雪数据中心",
          "orgIdentifier": "r3d100010110",
          "pidSystemCount": 1,
          "pidSystems": "DOI",
          "policies": "https://www.coretrustseal.org/wp-content/uploads/2020/03/WDC-NSIDC.pdf; https://nsidc.org/privacy.html",
          "policyCount": 2,
          "repositoryURL": "https://nsidc.org/data/"
         },
         {
          "apiCount": 0,
          "apis": null,
          "contentTypeCount": 4,
          "contentTypes": "视听数据；数据库；图片;标准办公文件",
          "country": "英国",
          "dataAccessCount": 2,
          "dataAccesses": "开放\n    ;\n    受限\n    注册",
          "entryDate": "2013-09-09",
          "institutionCount": 3,
          "institutions": "英国皇家学会（基金）；剑桥大学斯科特极地研究所图书馆（一般；技术）；世界冰川学数据中心（一般）",
          "lastUpdate": "2021-06-08",
          "name": "剑桥世界冰川学数据中心",
          "orgIdentifier": "r3d100010457",
          "pidSystemCount": 1,
          "pidSystems": null,
          "policies": "https://www.spri.cam.ac.uk/archives/policy/",
          "policyCount": 1,
          "repositoryURL": "https://www.spri.cam.ac.uk/library/catalogue/sprilib/icesnow/"
         },
         {
          "apiCount": 1,
          "apis": "FTP",
          "contentTypeCount": 7,
          "contentTypes": "存档数据；图片;纯文本;科学和统计数据格式；源代码;标准办公文件；结构化图形",
          "country": "中国",
          "dataAccessCount": 1,
          "dataAccesses": "受限\n    其他",
          "entryDate": "2022-02-22",
          "institutionCount": 4,
          "institutions": "中国科学院山地灾害与环境研究所（一般）；中国科学院西北生态环境资源研究院（一般）；中国科学院青海盐湖研究所（一般）；中国科学院新疆生态与地理研究所（一般）",
          "lastUpdate": "2022-02-24",
          "name": "国家冰川冻土沙漠科学数据中心",
          "orgIdentifier": "r3d100013754",
          "pidSystemCount": 2,
          "pidSystems": "DOI；其他",
          "policies": null,
          "policyCount": 0,
          "repositoryURL": "http://www.ncdc.ac.cn"
         },
         {
          "apiCount": 0,
          "apis": null,
          "contentTypeCount": 4,
          "contentTypes": "图片;原始数据;科学和统计数据格式；结构化文本",
          "country": "日本",
          "dataAccessCount": 2,
          "dataAccesses": "开放\n    ;\n    受限\n    注册",
          "entryDate": "2014-09-16",
          "institutionCount": 1,
          "institutions": "国家极地研究所极地数据中心（一般）",
          "lastUpdate": "2021-05-06",
          "name": "国家极地研究所科学数据库",
          "orgIdentifier": "r3d100010957",
          "pidSystemCount": 1,
          "pidSystems": "DOI",
          "policies": "https://scidbase.nipr.ac.jp/uploads/policy/data-policy.e.pdf; https://scidbase.nipr.ac.jp/uploads/policy/ipy_datapolicy_e.pdf; https://www.polarcommons.org/; https://www.nipr.ac.jp/english/terms.html",
          "policyCount": 4,
          "repositoryURL": "https://scidbase.nipr.ac.jp/?ml_lang=en"
         },
         {
          "apiCount": 2,
          "apis": "FTP; OpenDAP",
          "contentTypeCount": 7,
          "contentTypes": "存档数据；图片;科学和统计数据格式；软件应用程序；标准办公文件；结构化图形；结构化文本",
          "country": "德国",
          "dataAccessCount": 2,
          "dataAccesses": "开放\n    ;\n    受限\n    注册",
          "entryDate": "2012-09-26",
          "institutionCount": 1,
          "institutions": "汉堡大学，地球系统研究和可持续发展中心，一般气候数据中心（资金；一般；技术）",
          "lastUpdate": "2023-06-19",
          "name": "综合气候数据中心",
          "orgIdentifier": "r3d100010405",
          "pidSystemCount": 0,
          "pidSystems": null,
          "policies": "https://www.cen.uni-hamburg.de/en/icdc/research/data-management.html",
          "policyCount": 1,
          "repositoryURL": "https://www.cen.uni-hamburg.de/en/icdc/data.html"
         },
         {
          "apiCount": 2,
          "apis": "FTP; REST",
          "contentTypeCount": 5,
          "contentTypes": "图片;科学和统计数据格式；标准办公文件；结构化文本；其他",
          "country": "美国",
          "dataAccessCount": 2,
          "dataAccesses": "开放\n    ;\n    受限\n    收费",
          "entryDate": "2013-05-11",
          "institutionCount": 2,
          "institutions": "国家环境信息中心（一般）；国家海洋和大气管理局（一般）",
          "lastUpdate": "2023-05-09",
          "name": "NOAA 国家环境信息中心",
          "orgIdentifier": "r3d100010311",
          "pidSystemCount": 1,
          "pidSystems": "DOI",
          "policies": "https://www.ncei.noaa.gov/sites/default/files/2019-10/NCEI%20Archive%20Collecting%20Policy.pdf",
          "policyCount": 1,
          "repositoryURL": "https://www.ncei.noaa.gov/access/paleo-search/"
         },
         {
          "apiCount": 1,
          "apis": "REST",
          "contentTypeCount": 6,
          "contentTypes": "数据库；图片;科学和统计数据格式；标准办公文件；结构化文本；其他",
          "country": "美国",
          "dataAccessCount": 1,
          "dataAccesses": "开放",
          "entryDate": "2014-01-22",
          "institutionCount": 4,
          "institutions": "哥伦比亚大学拉蒙特-多尔蒂地球观测站（技术）；跨学科地球数据联盟（一般；技术）；国家科学基金（基金）；美国南极计划（一般）",
          "lastUpdate": "2022-12-12",
          "name": "美国南极计划数据中心",
          "orgIdentifier": "r3d100010660",
          "pidSystemCount": 1,
          "pidSystems": "DOI",
          "policies": "https://www.nsf.gov/publications/pub_summ.jsp?ods_key=nsf16055; https://www.nsf.gov/bfa/dias/policy/dmp.jsp",
          "policyCount": 2,
          "repositoryURL": "https://www.usap-dc.org/"
         }
        ]
       },
       "encoding": {
        "x": {
         "aggregate": "count",
         "title": "数据中心数量（个）",
         "type": "quantitative"
        },
        "y": {
         "field": "country",
         "sort": "-x",
         "title": "国家",
         "type": "nominal"
        }
       },
       "mark": "bar"
      },
      "image/png": "[encoded data removed]",
      "image/svg+xml": [
       "<svg xmlns=\"http://www.w3.org/2000/svg\" xmlns:xlink=\"http://www.w3.org/1999/xlink\" version=\"1.1\" class=\"marks\" width=\"253\" height=\"142\" viewBox=\"0 0 253 142\"><rect width=\"253\" height=\"142\" fill=\"white\"/><g fill=\"none\" stroke-miterlimit=\"10\" transform=\"translate(47,5)\"><g class=\"mark-group role-frame root\" role=\"graphics-object\" aria-roledescription=\"group mark container\"><g transform=\"translate(0,0)\"><path class=\"background\" aria-hidden=\"true\" d=\"M0.5,0.5h200v100h-200Z\" stroke=\"#ddd\"/><g><g class=\"mark-group role-axis\" aria-hidden=\"true\"><g transform=\"translate(0.5,100.5)\"><path class=\"background\" aria-hidden=\"true\" d=\"M0,0h0v0h0Z\" pointer-events=\"none\"/><g><g class=\"mark-rule role-axis-grid\" pointer-events=\"none\"><line transform=\"translate(0,0)\" x2=\"0\" y2=\"-100\" stroke=\"#ddd\" stroke-width=\"1\" opacity=\"1\"/><line transform=\"translate(33,0)\" x2=\"0\" y2=\"-100\" stroke=\"#ddd\" stroke-width=\"1\" opacity=\"1\"/><line transform=\"translate(67,0)\" x2=\"0\" y2=\"-100\" stroke=\"#ddd\" stroke-width=\"1\" opacity=\"1\"/><line transform=\"translate(100,0)\" x2=\"0\" y2=\"-100\" stroke=\"#ddd\" stroke-width=\"1\" opacity=\"1\"/><line transform=\"translate(133,0)\" x2=\"0\" y2=\"-100\" stroke=\"#ddd\" stroke-width=\"1\" opacity=\"1\"/><line transform=\"translate(167,0)\" x2=\"0\" y2=\"-100\" stroke=\"#ddd\" stroke-width=\"1\" opacity=\"1\"/><line transform=\"translate(200,0)\" x2=\"0\" y2=\"-100\" stroke=\"#ddd\" stroke-width=\"1\" opacity=\"1\"/></g></g><path class=\"foreground\" aria-hidden=\"true\" d=\"\" pointer-events=\"none\" display=\"none\"/></g></g><g class=\"mark-group role-axis\" role=\"graphics-symbol\" aria-roledescription=\"axis\" aria-label=\"X-axis titled '数据中心数量（个）' for a linear scale with values from 0.0 to 3.0\"><g transform=\"translate(0.5,100.5)\"><path class=\"background\" aria-hidden=\"true\" d=\"M0,0h0v0h0Z\" pointer-events=\"none\"/><g><g class=\"mark-rule role-axis-tick\" pointer-events=\"none\"><line transform=\"translate(0,0)\" x2=\"0\" y2=\"5\" stroke=\"#888\" stroke-width=\"1\" opacity=\"1\"/><line transform=\"translate(33,0)\" x2=\"0\" y2=\"5\" stroke=\"#888\" stroke-width=\"1\" opacity=\"1\"/><line transform=\"translate(67,0)\" x2=\"0\" y2=\"5\" stroke=\"#888\" stroke-width=\"1\" opacity=\"1\"/><line transform=\"translate(100,0)\" x2=\"0\" y2=\"5\" stroke=\"#888\" stroke-width=\"1\" opacity=\"1\"/><line transform=\"translate(133,0)\" x2=\"0\" y2=\"5\" stroke=\"#888\" stroke-width=\"1\" opacity=\"1\"/><line transform=\"translate(167,0)\" x2=\"0\" y2=\"5\" stroke=\"#888\" stroke-width=\"1\" opacity=\"1\"/><line transform=\"translate(200,0)\" x2=\"0\" y2=\"5\" stroke=\"#888\" stroke-width=\"1\" opacity=\"1\"/></g><g class=\"mark-text role-axis-label\" pointer-events=\"none\"><text text-anchor=\"start\" transform=\"translate(0,15)\" font-family=\"sans-serif\" font-size=\"10px\" fill=\"#000\" opacity=\"1\">0.0</text><text text-anchor=\"middle\" transform=\"translate(33.33333333333333,15)\" font-family=\"sans-serif\" font-size=\"10px\" fill=\"#000\" opacity=\"1\">0.5</text><text text-anchor=\"middle\" transform=\"translate(66.66666666666666,15)\" font-family=\"sans-serif\" font-size=\"10px\" fill=\"#000\" opacity=\"1\">1.0</text><text text-anchor=\"middle\" transform=\"translate(100,15)\" font-family=\"sans-serif\" font-size=\"10px\" fill=\"#000\" opacity=\"1\">1.5</text><text text-anchor=\"middle\" transform=\"translate(133.33333333333331,15)\" font-family=\"sans-serif\" font-size=\"10px\" fill=\"#000\" opacity=\"1\">2.0</text><text text-anchor=\"middle\" transform=\"translate(166.66666666666669,15)\" font-family=\"sans-serif\" font-size=\"10px\" fill=\"#000\" opacity=\"1\">2.5</text><text text-anchor=\"end\" transform=\"translate(200,15)\" font-family=\"sans-serif\" font-size=\"10px\" fill=\"#000\" opacity=\"1\">3.0</text></g><g class=\"mark-rule role-axis-domain\" pointer-events=\"none\"><line transform=\"translate(0,0)\" x2=\"200\" y2=\"0\" stroke=\"#888\" stroke-width=\"1\" opacity=\"1\"/></g><g class=\"mark-text role-axis-title\" pointer-events=\"none\"><text text-anchor=\"middle\" transform=\"translate(100,30)\" font-family=\"sans-serif\" font-size=\"11px\" font-weight=\"bold\" fill=\"#000\" opacity=\"1\">数据中心数量（个）</text></g></g><path class=\"foreground\" aria-hidden=\"true\" d=\"\" pointer-events=\"none\" display=\"none\"/></g></g><g class=\"mark-group role-axis\" role=\"graphics-symbol\" aria-roledescription=\"axis\" aria-label=\"Y-axis titled '国家' for a discrete scale with 5 values: 美国, 英国, 中国, 日本, 德国\"><g transform=\"translate(0.5,0.5)\"><path class=\"background\" aria-hidden=\"true\" d=\"M0,0h0v0h0Z\" pointer-events=\"none\"/><g><g class=\"mark-rule role-axis-tick\" pointer-events=\"none\"><line transform=\"translate(0,10)\" x2=\"-5\" y2=\"0\" stroke=\"#888\" stroke-width=\"1\" opacity=\"1\"/><line transform=\"translate(0,30)\" x2=\"-5\" y2=\"0\" stroke=\"#888\" stroke-width=\"1\" opacity=\"1\"/><line transform=\"translate(0,50)\" x2=\"-5\" y2=\"0\" stroke=\"#888\" stroke-width=\"1\" opacity=\"1\"/><line transform=\"translate(0,70)\" x2=\"-5\" y2=\"0\" stroke=\"#888\" stroke-width=\"1\" opacity=\"1\"/><line transform=\"translate(0,90)\" x2=\"-5\" y2=\"0\" stroke=\"#888\" stroke-width=\"1\" opacity=\"1\"/></g><g class=\"mark-text role-axis-label\" pointer-events=\"none\"><text text-anchor=\"end\" transform=\"translate(-7,12.5)\" font-family=\"sans-serif\" font-size=\"10px\" fill=\"#000\" opacity=\"1\">美国</text><text text-anchor=\"end\" transform=\"translate(-7,32.5)\" font-family=\"sans-serif\" font-size=\"10px\" fill=\"#000\" opacity=\"1\">英国</text><text text-anchor=\"end\" transform=\"translate(-7,52.5)\" font-family=\"sans-serif\" font-size=\"10px\" fill=\"#000\" opacity=\"1\">中国</text><text text-anchor=\"end\" transform=\"translate(-7,72.5)\" font-family=\"sans-serif\" font-size=\"10px\" fill=\"#000\" opacity=\"1\">日本</text><text text-anchor=\"end\" transform=\"translate(-7,92.5)\" font-family=\"sans-serif\" font-size=\"10px\" fill=\"#000\" opacity=\"1\">德国</text></g><g class=\"mark-rule role-axis-domain\" pointer-events=\"none\"><line transform=\"translate(0,0)\" x2=\"0\" y2=\"100\" stroke=\"#888\" stroke-width=\"1\" opacity=\"1\"/></g><g class=\"mark-text role-axis-title\" pointer-events=\"none\"><text text-anchor=\"middle\" transform=\"translate(-31,50) rotate(-90) translate(0,-2)\" font-family=\"sans-serif\" font-size=\"11px\" font-weight=\"bold\" fill=\"#000\" opacity=\"1\">国家</text></g></g><path class=\"foreground\" aria-hidden=\"true\" d=\"\" pointer-events=\"none\" display=\"none\"/></g></g><g class=\"mark-rect role-mark marks\" role=\"graphics-object\" aria-roledescription=\"rect mark container\"><path aria-label=\"数据中心数量（个）: 3; 国家: 美国\" role=\"graphics-symbol\" aria-roledescription=\"bar\" d=\"M0,1h200v18h-200Z\" fill=\"#4c78a8\"/><path aria-label=\"数据中心数量（个）: 1; 国家: 英国\" role=\"graphics-symbol\" aria-roledescription=\"bar\" d=\"M0,21h66.66666666666666v18h-66.66666666666666Z\" fill=\"#4c78a8\"/><path aria-label=\"数据中心数量（个）: 1; 国家: 中国\" role=\"graphics-symbol\" aria-roledescription=\"bar\" d=\"M0,41h66.66666666666666v18h-66.66666666666666Z\" fill=\"#4c78a8\"/><path aria-label=\"数据中心数量（个）: 1; 国家: 日本\" role=\"graphics-symbol\" aria-roledescription=\"bar\" d=\"M0,61h66.66666666666666v18h-66.66666666666666Z\" fill=\"#4c78a8\"/><path aria-label=\"数据中心数量（个）: 1; 国家: 德国\" role=\"graphics-symbol\" aria-roledescription=\"bar\" d=\"M0,81h66.66666666666666v18h-66.66666666666666Z\" fill=\"#4c78a8\"/></g></g><path class=\"foreground\" aria-hidden=\"true\" d=\"\" display=\"none\"/></g></g></g></svg>"
      ],
      "text/plain": [
       "@vlplot(\n",
       "    mark=\"bar\",\n",
       "    encoding={\n",
       "        y={\n",
       "            sort=\"-x\",\n",
       "            title=\"国家\",\n",
       "            field=\"country\"\n",
       "        },\n",
       "        x={\n",
       "            title=\"数据中心数量（个）\",\n",
       "            aggregate=\"count\",\n",
       "            type=\"quantitative\"\n",
       "        }\n",
       "    },\n",
       "    data={\n",
       "        values=...\n",
       "    }\n",
       ")"
      ]
     },
     "metadata": {},
     "output_type": "display_data"
    }
   ],
   "source": [
    "df |> @vlplot(\n",
    "    :bar,\n",
    "    # transforr = \"datum.year == 2000\"}],\n",
    "    y = {\"country\", sort = \"-x\", title = \"国家\"},\n",
    "    x = {\"count()\", title = \"数据中心数量（个）\"},\n",
    ")"
   ]
  },
  {
   "cell_type": "code",
   "execution_count": 4,
   "metadata": {},
   "outputs": [
    {
     "data": {
      "application/vnd.vegalite.v5+json": {
       "data": {
        "values": [
         {
          "apiCount": 3,
          "apis": "FTP; OpenDAP; other",
          "contentTypeCount": 5,
          "contentTypes": "图片;原始数据;科学和统计数据格式；结构化图形；结构化文本",
          "country": "美国",
          "dataAccessCount": 2,
          "dataAccesses": "开放\n    ;\n    受限\n    机构会员资格\n    其他\n    注册",
          "entryDate": "2012-11-21",
          "institutionCount": 6,
          "institutions": "环境科学研究所、国家冰雪数据中心（一般；技术）； EarthCube 数据设施委员会（一般）；美国国家航空航天局（基金）；国家海洋和大气管理局（资金；一般）；国家科学基金（基金）；科罗拉多大学博尔德分校（基金；一般）",
          "lastUpdate": "2021-06-29",
          "name": "国家冰雪数据中心",
          "orgIdentifier": "r3d100010110",
          "pidSystemCount": 1,
          "pidSystems": "DOI",
          "policies": "https://www.coretrustseal.org/wp-content/uploads/2020/03/WDC-NSIDC.pdf; https://nsidc.org/privacy.html",
          "policyCount": 2,
          "repositoryURL": "https://nsidc.org/data/"
         },
         {
          "apiCount": 0,
          "apis": null,
          "contentTypeCount": 4,
          "contentTypes": "视听数据；数据库；图片;标准办公文件",
          "country": "英国",
          "dataAccessCount": 2,
          "dataAccesses": "开放\n    ;\n    受限\n    注册",
          "entryDate": "2013-09-09",
          "institutionCount": 3,
          "institutions": "英国皇家学会（基金）；剑桥大学斯科特极地研究所图书馆（一般；技术）；世界冰川学数据中心（一般）",
          "lastUpdate": "2021-06-08",
          "name": "剑桥世界冰川学数据中心",
          "orgIdentifier": "r3d100010457",
          "pidSystemCount": 1,
          "pidSystems": null,
          "policies": "https://www.spri.cam.ac.uk/archives/policy/",
          "policyCount": 1,
          "repositoryURL": "https://www.spri.cam.ac.uk/library/catalogue/sprilib/icesnow/"
         },
         {
          "apiCount": 1,
          "apis": "FTP",
          "contentTypeCount": 7,
          "contentTypes": "存档数据；图片;纯文本;科学和统计数据格式；源代码;标准办公文件；结构化图形",
          "country": "中国",
          "dataAccessCount": 1,
          "dataAccesses": "受限\n    其他",
          "entryDate": "2022-02-22",
          "institutionCount": 4,
          "institutions": "中国科学院山地灾害与环境研究所（一般）；中国科学院西北生态环境资源研究院（一般）；中国科学院青海盐湖研究所（一般）；中国科学院新疆生态与地理研究所（一般）",
          "lastUpdate": "2022-02-24",
          "name": "国家冰川冻土沙漠科学数据中心",
          "orgIdentifier": "r3d100013754",
          "pidSystemCount": 2,
          "pidSystems": "DOI；其他",
          "policies": null,
          "policyCount": 0,
          "repositoryURL": "http://www.ncdc.ac.cn"
         },
         {
          "apiCount": 0,
          "apis": null,
          "contentTypeCount": 4,
          "contentTypes": "图片;原始数据;科学和统计数据格式；结构化文本",
          "country": "日本",
          "dataAccessCount": 2,
          "dataAccesses": "开放\n    ;\n    受限\n    注册",
          "entryDate": "2014-09-16",
          "institutionCount": 1,
          "institutions": "国家极地研究所极地数据中心（一般）",
          "lastUpdate": "2021-05-06",
          "name": "国家极地研究所科学数据库",
          "orgIdentifier": "r3d100010957",
          "pidSystemCount": 1,
          "pidSystems": "DOI",
          "policies": "https://scidbase.nipr.ac.jp/uploads/policy/data-policy.e.pdf; https://scidbase.nipr.ac.jp/uploads/policy/ipy_datapolicy_e.pdf; https://www.polarcommons.org/; https://www.nipr.ac.jp/english/terms.html",
          "policyCount": 4,
          "repositoryURL": "https://scidbase.nipr.ac.jp/?ml_lang=en"
         },
         {
          "apiCount": 2,
          "apis": "FTP; OpenDAP",
          "contentTypeCount": 7,
          "contentTypes": "存档数据；图片;科学和统计数据格式；软件应用程序；标准办公文件；结构化图形；结构化文本",
          "country": "德国",
          "dataAccessCount": 2,
          "dataAccesses": "开放\n    ;\n    受限\n    注册",
          "entryDate": "2012-09-26",
          "institutionCount": 1,
          "institutions": "汉堡大学，地球系统研究和可持续发展中心，一般气候数据中心（资金；一般；技术）",
          "lastUpdate": "2023-06-19",
          "name": "综合气候数据中心",
          "orgIdentifier": "r3d100010405",
          "pidSystemCount": 0,
          "pidSystems": null,
          "policies": "https://www.cen.uni-hamburg.de/en/icdc/research/data-management.html",
          "policyCount": 1,
          "repositoryURL": "https://www.cen.uni-hamburg.de/en/icdc/data.html"
         },
         {
          "apiCount": 2,
          "apis": "FTP; REST",
          "contentTypeCount": 5,
          "contentTypes": "图片;科学和统计数据格式；标准办公文件；结构化文本；其他",
          "country": "美国",
          "dataAccessCount": 2,
          "dataAccesses": "开放\n    ;\n    受限\n    收费",
          "entryDate": "2013-05-11",
          "institutionCount": 2,
          "institutions": "国家环境信息中心（一般）；国家海洋和大气管理局（一般）",
          "lastUpdate": "2023-05-09",
          "name": "NOAA 国家环境信息中心",
          "orgIdentifier": "r3d100010311",
          "pidSystemCount": 1,
          "pidSystems": "DOI",
          "policies": "https://www.ncei.noaa.gov/sites/default/files/2019-10/NCEI%20Archive%20Collecting%20Policy.pdf",
          "policyCount": 1,
          "repositoryURL": "https://www.ncei.noaa.gov/access/paleo-search/"
         },
         {
          "apiCount": 1,
          "apis": "REST",
          "contentTypeCount": 6,
          "contentTypes": "数据库；图片;科学和统计数据格式；标准办公文件；结构化文本；其他",
          "country": "美国",
          "dataAccessCount": 1,
          "dataAccesses": "开放",
          "entryDate": "2014-01-22",
          "institutionCount": 4,
          "institutions": "哥伦比亚大学拉蒙特-多尔蒂地球观测站（技术）；跨学科地球数据联盟（一般；技术）；国家科学基金（基金）；美国南极计划（一般）",
          "lastUpdate": "2022-12-12",
          "name": "美国南极计划数据中心",
          "orgIdentifier": "r3d100010660",
          "pidSystemCount": 1,
          "pidSystems": "DOI",
          "policies": "https://www.nsf.gov/publications/pub_summ.jsp?ods_key=nsf16055; https://www.nsf.gov/bfa/dias/policy/dmp.jsp",
          "policyCount": 2,
          "repositoryURL": "https://www.usap-dc.org/"
         }
        ]
       },
       "encoding": {
        "x": {
         "field": "entryDate",
         "title": "注册时间",
         "type": "temporal"
        },
        "x2": {
         "field": "lastUpdate",
         "title": "更新时间",
         "type": "temporal"
        },
        "y": {
         "field": "name",
         "sort": "x",
         "title": "数据中心",
         "type": "ordinal"
        }
       },
       "mark": "bar"
      },
      "image/png": "[encoded data removed]",
      "image/svg+xml": [
       "<svg xmlns=\"http://www.w3.org/2000/svg\" xmlns:xlink=\"http://www.w3.org/1999/xlink\" version=\"1.1\" class=\"marks\" width=\"372\" height=\"182\" viewBox=\"0 0 372 182\"><rect width=\"372\" height=\"182\" fill=\"white\"/><g fill=\"none\" stroke-miterlimit=\"10\" transform=\"translate(167,5)\"><g class=\"mark-group role-frame root\" role=\"graphics-object\" aria-roledescription=\"group mark container\"><g transform=\"translate(0,0)\"><path class=\"background\" aria-hidden=\"true\" d=\"M0.5,0.5h200v140h-200Z\" stroke=\"#ddd\"/><g><g class=\"mark-group role-axis\" aria-hidden=\"true\"><g transform=\"translate(0.5,140.5)\"><path class=\"background\" aria-hidden=\"true\" d=\"M0,0h0v0h0Z\" pointer-events=\"none\"/><g><g class=\"mark-rule role-axis-grid\" pointer-events=\"none\"><line transform=\"translate(24,0)\" x2=\"0\" y2=\"-140\" stroke=\"#ddd\" stroke-width=\"1\" opacity=\"1\"/><line transform=\"translate(61,0)\" x2=\"0\" y2=\"-140\" stroke=\"#ddd\" stroke-width=\"1\" opacity=\"1\"/><line transform=\"translate(98,0)\" x2=\"0\" y2=\"-140\" stroke=\"#ddd\" stroke-width=\"1\" opacity=\"1\"/><line transform=\"translate(135,0)\" x2=\"0\" y2=\"-140\" stroke=\"#ddd\" stroke-width=\"1\" opacity=\"1\"/><line transform=\"translate(173,0)\" x2=\"0\" y2=\"-140\" stroke=\"#ddd\" stroke-width=\"1\" opacity=\"1\"/></g></g><path class=\"foreground\" aria-hidden=\"true\" d=\"\" pointer-events=\"none\" display=\"none\"/></g></g><g class=\"mark-group role-axis\" role=\"graphics-symbol\" aria-roledescription=\"axis\" aria-label=\"X-axis titled '注册时间, 更新时间' for a time scale with values from Wednesday, 26 September 2012, 8:00:00 AM to Monday, 19 June 2023, 8:00:00 AM\"><g transform=\"translate(0.5,140.5)\"><path class=\"background\" aria-hidden=\"true\" d=\"M0,0h0v0h0Z\" pointer-events=\"none\"/><g><g class=\"mark-rule role-axis-tick\" pointer-events=\"none\"><line transform=\"translate(24,0)\" x2=\"0\" y2=\"5\" stroke=\"#888\" stroke-width=\"1\" opacity=\"1\"/><line transform=\"translate(61,0)\" x2=\"0\" y2=\"5\" stroke=\"#888\" stroke-width=\"1\" opacity=\"1\"/><line transform=\"translate(98,0)\" x2=\"0\" y2=\"5\" stroke=\"#888\" stroke-width=\"1\" opacity=\"1\"/><line transform=\"translate(135,0)\" x2=\"0\" y2=\"5\" stroke=\"#888\" stroke-width=\"1\" opacity=\"1\"/><line transform=\"translate(173,0)\" x2=\"0\" y2=\"5\" stroke=\"#888\" stroke-width=\"1\" opacity=\"1\"/></g><g class=\"mark-text role-axis-label\" pointer-events=\"none\"><text text-anchor=\"middle\" transform=\"translate(23.56644546537349,15)\" font-family=\"sans-serif\" font-size=\"10px\" fill=\"#000\" opacity=\"1\">2014</text><text text-anchor=\"middle\" transform=\"translate(60.83035562361749,15)\" font-family=\"sans-serif\" font-size=\"10px\" fill=\"#000\" opacity=\"1\">2016</text><text text-anchor=\"middle\" transform=\"translate(98.14531223413306,15)\" font-family=\"sans-serif\" font-size=\"10px\" fill=\"#000\" opacity=\"1\">2018</text><text text-anchor=\"middle\" transform=\"translate(135.40922239237707,15)\" font-family=\"sans-serif\" font-size=\"10px\" fill=\"#000\" opacity=\"1\">2020</text><text text-anchor=\"middle\" transform=\"translate(172.72417900289264,15)\" font-family=\"sans-serif\" font-size=\"10px\" fill=\"#000\" opacity=\"1\">2022</text></g><g class=\"mark-rule role-axis-domain\" pointer-events=\"none\"><line transform=\"translate(0,0)\" x2=\"200\" y2=\"0\" stroke=\"#888\" stroke-width=\"1\" opacity=\"1\"/></g><g class=\"mark-text role-axis-title\" pointer-events=\"none\"><text text-anchor=\"middle\" transform=\"translate(100,30)\" font-family=\"sans-serif\" font-size=\"11px\" font-weight=\"bold\" fill=\"#000\" opacity=\"1\">注册时间, 更新时间</text></g></g><path class=\"foreground\" aria-hidden=\"true\" d=\"\" pointer-events=\"none\" display=\"none\"/></g></g><g class=\"mark-group role-axis\" role=\"graphics-symbol\" aria-roledescription=\"axis\" aria-label=\"Y-axis titled '数据中心' for a discrete scale with 7 values: 综合气候数据中心, 国家冰雪数据中心, NOAA 国家环境信息中心, 剑桥世界冰川学数据中心, 美国南极计划数据中心, 国家极地研究所科学数据库, 国家冰川冻土沙漠科学数据中心\"><g transform=\"translate(0.5,0.5)\"><path class=\"background\" aria-hidden=\"true\" d=\"M0,0h0v0h0Z\" pointer-events=\"none\"/><g><g class=\"mark-rule role-axis-tick\" pointer-events=\"none\"><line transform=\"translate(0,10)\" x2=\"-5\" y2=\"0\" stroke=\"#888\" stroke-width=\"1\" opacity=\"1\"/><line transform=\"translate(0,30)\" x2=\"-5\" y2=\"0\" stroke=\"#888\" stroke-width=\"1\" opacity=\"1\"/><line transform=\"translate(0,50)\" x2=\"-5\" y2=\"0\" stroke=\"#888\" stroke-width=\"1\" opacity=\"1\"/><line transform=\"translate(0,70)\" x2=\"-5\" y2=\"0\" stroke=\"#888\" stroke-width=\"1\" opacity=\"1\"/><line transform=\"translate(0,90)\" x2=\"-5\" y2=\"0\" stroke=\"#888\" stroke-width=\"1\" opacity=\"1\"/><line transform=\"translate(0,110)\" x2=\"-5\" y2=\"0\" stroke=\"#888\" stroke-width=\"1\" opacity=\"1\"/><line transform=\"translate(0,130)\" x2=\"-5\" y2=\"0\" stroke=\"#888\" stroke-width=\"1\" opacity=\"1\"/></g><g class=\"mark-text role-axis-label\" pointer-events=\"none\"><text text-anchor=\"end\" transform=\"translate(-7,12.5)\" font-family=\"sans-serif\" font-size=\"10px\" fill=\"#000\" opacity=\"1\">综合气候数据中心</text><text text-anchor=\"end\" transform=\"translate(-7,32.5)\" font-family=\"sans-serif\" font-size=\"10px\" fill=\"#000\" opacity=\"1\">国家冰雪数据中心</text><text text-anchor=\"end\" transform=\"translate(-7,52.5)\" font-family=\"sans-serif\" font-size=\"10px\" fill=\"#000\" opacity=\"1\">NOAA 国家环境信息中心</text><text text-anchor=\"end\" transform=\"translate(-7,72.5)\" font-family=\"sans-serif\" font-size=\"10px\" fill=\"#000\" opacity=\"1\">剑桥世界冰川学数据中心</text><text text-anchor=\"end\" transform=\"translate(-7,92.5)\" font-family=\"sans-serif\" font-size=\"10px\" fill=\"#000\" opacity=\"1\">美国南极计划数据中心</text><text text-anchor=\"end\" transform=\"translate(-7,112.5)\" font-family=\"sans-serif\" font-size=\"10px\" fill=\"#000\" opacity=\"1\">国家极地研究所科学数据库</text><text text-anchor=\"end\" transform=\"translate(-7,132.5)\" font-family=\"sans-serif\" font-size=\"10px\" fill=\"#000\" opacity=\"1\">国家冰川冻土沙漠科学数据中心</text></g><g class=\"mark-rule role-axis-domain\" pointer-events=\"none\"><line transform=\"translate(0,0)\" x2=\"0\" y2=\"140\" stroke=\"#888\" stroke-width=\"1\" opacity=\"1\"/></g><g class=\"mark-text role-axis-title\" pointer-events=\"none\"><text text-anchor=\"middle\" transform=\"translate(-151,70) rotate(-90) translate(0,-2)\" font-family=\"sans-serif\" font-size=\"11px\" font-weight=\"bold\" fill=\"#000\" opacity=\"1\">数据中心</text></g></g><path class=\"foreground\" aria-hidden=\"true\" d=\"\" pointer-events=\"none\" display=\"none\"/></g></g><g class=\"mark-rect role-mark marks\" role=\"graphics-object\" aria-roledescription=\"rect mark container\"><path aria-label=\"注册时间: Nov 21, 2012; 数据中心: 国家冰雪数据中心; 更新时间: Jun 29, 2021\" role=\"graphics-symbol\" aria-roledescription=\"bar\" d=\"M2.858601327207759,21h160.38795303726388v18h-160.38795303726388Z\" fill=\"#4c78a8\"/><path aria-label=\"注册时间: Sep 09, 2013; 数据中心: 剑桥世界冰川学数据中心; 更新时间: Jun 08, 2021\" role=\"graphics-symbol\" aria-roledescription=\"bar\" d=\"M17.76416539050536,61h144.41041347626341v18h-144.41041347626341Z\" fill=\"#4c78a8\"/><path aria-label=\"注册时间: Feb 22, 2022; 数据中心: 国家冰川冻土沙漠科学数据中心; 更新时间: Feb 24, 2022\" role=\"graphics-symbol\" aria-roledescription=\"bar\" d=\"M175.39561000510463,121h0.10209290454315578v18h-0.10209290454315578Z\" fill=\"#4c78a8\"/><path aria-label=\"注册时间: Sep 16, 2014; 数据中心: 国家极地研究所科学数据库; 更新时间: May 06, 2021\" role=\"graphics-symbol\" aria-roledescription=\"bar\" d=\"M36.75344563552833,101h123.73660030627872v18h-123.73660030627872Z\" fill=\"#4c78a8\"/><path aria-label=\"注册时间: Sep 26, 2012; 数据中心: 综合气候数据中心; 更新时间: Jun 19, 2023\" role=\"graphics-symbol\" aria-roledescription=\"bar\" d=\"M0,1h200v18h-200Z\" fill=\"#4c78a8\"/><path aria-label=\"注册时间: May 11, 2013; 数据中心: NOAA 国家环境信息中心; 更新时间: May 09, 2023\" role=\"graphics-symbol\" aria-roledescription=\"bar\" d=\"M11.587544665645739,41h186.31955079122002v18h-186.31955079122002Z\" fill=\"#4c78a8\"/><path aria-label=\"注册时间: Jan 22, 2014; 数据中心: 美国南极计划数据中心; 更新时间: Dec 12, 2022\" role=\"graphics-symbol\" aria-roledescription=\"bar\" d=\"M24.655436447166924,81h165.6967840735069v18h-165.6967840735069Z\" fill=\"#4c78a8\"/></g></g><path class=\"foreground\" aria-hidden=\"true\" d=\"\" display=\"none\"/></g></g></g></svg>"
      ],
      "text/plain": [
       "@vlplot(\n",
       "    mark=\"bar\",\n",
       "    encoding={\n",
       "        y={\n",
       "            sort=\"x\",\n",
       "            title=\"数据中心\",\n",
       "            field=\"name\",\n",
       "            type=\"ordinal\"\n",
       "        },\n",
       "        x={\n",
       "            title=\"注册时间\",\n",
       "            field=\"entryDate\"\n",
       "        },\n",
       "        x2={\n",
       "            title=\"更新时间\",\n",
       "            field=\"lastUpdate\"\n",
       "        }\n",
       "    },\n",
       "    data={\n",
       "        values=...\n",
       "    }\n",
       ")"
      ]
     },
     "metadata": {},
     "output_type": "display_data"
    }
   ],
   "source": [
    "df |> @vlplot(\n",
    "    :bar,\n",
    "    # transforr = \"datum.year == 2000\"}],\n",
    "    y = {\"name:o\", sort = \"x\", title = \"数据中心\"},\n",
    "    x = {\"entryDate\", title = \"注册时间\"},\n",
    "    x2 = {\"lastUpdate\", title = \"更新时间\"}\n",
    ")"
   ]
  },
  {
   "cell_type": "code",
   "execution_count": 5,
   "metadata": {},
   "outputs": [
    {
     "data": {
      "application/vnd.vegalite.v5+json": {
       "data": {
        "values": [
         {
          "api": "FPT",
          "count": 4
         },
         {
          "api": "OpenDAP",
          "count": 2
         },
         {
          "api": "REST",
          "count": 2
         },
         {
          "api": "其他",
          "count": 1
         },
         {
          "api": "无",
          "count": 2
         }
        ]
       },
       "encoding": {
        "color": {
         "field": "api",
         "title": "应用程序接口方式",
         "type": "nominal"
        },
        "order": {
         "field": "count",
         "type": "quantitative"
        },
        "theta": {
         "field": "count",
         "stack": true,
         "type": "quantitative"
        }
       },
       "mark": "arc",
       "view": {
        "stroke": null
       }
      },
      "image/png": "[encoded data removed]",
      "image/svg+xml": [
       "<svg xmlns=\"http://www.w3.org/2000/svg\" xmlns:xlink=\"http://www.w3.org/1999/xlink\" version=\"1.1\" class=\"marks\" width=\"316\" height=\"210\" viewBox=\"0 0 316 210\"><rect width=\"316\" height=\"210\" fill=\"white\"/><g fill=\"none\" stroke-miterlimit=\"10\" transform=\"translate(5,5)\"><g class=\"mark-group role-frame root\" role=\"graphics-object\" aria-roledescription=\"group mark container\"><g transform=\"translate(0,0)\"><path class=\"background\" aria-hidden=\"true\" d=\"M0,0h200v200h-200Z\"/><g><g class=\"mark-arc role-mark marks\" role=\"graphics-object\" aria-roledescription=\"arc mark container\"><path aria-label=\"count: 4; 应用程序接口方式: FPT\" role=\"graphics-symbol\" aria-roledescription=\"arc mark\" transform=\"translate(100,100)\" d=\"M0,-100A100,100,0,0,0,-75.575,65.486L0,0Z\" fill=\"#4c78a8\"/><path aria-label=\"count: 2; 应用程序接口方式: OpenDAP\" role=\"graphics-symbol\" aria-roledescription=\"arc mark\" transform=\"translate(100,100)\" d=\"M98.982,14.231A100,100,0,0,0,54.064,-84.125L0,0Z\" fill=\"#f58518\"/><path aria-label=\"count: 2; 应用程序接口方式: REST\" role=\"graphics-symbol\" aria-roledescription=\"arc mark\" transform=\"translate(100,100)\" d=\"M28.173,95.949A100,100,0,0,0,98.982,14.231L0,0Z\" fill=\"#e45756\"/><path aria-label=\"count: 1; 应用程序接口方式: 其他\" role=\"graphics-symbol\" aria-roledescription=\"arc mark\" transform=\"translate(100,100)\" d=\"M54.064,-84.125A100,100,0,0,0,0,-100L0,0Z\" fill=\"#72b7b2\"/><path aria-label=\"count: 2; 应用程序接口方式: 无\" role=\"graphics-symbol\" aria-roledescription=\"arc mark\" transform=\"translate(100,100)\" d=\"M-75.575,65.486A100,100,0,0,0,28.173,95.949L0,0Z\" fill=\"#54a24b\"/></g><g class=\"mark-group role-legend\" role=\"graphics-symbol\" aria-roledescription=\"legend\" aria-label=\"Symbol legend titled '应用程序接口方式' for fill color with 5 values: FPT, OpenDAP, REST, 其他, 无\"><g transform=\"translate(218,0)\"><path class=\"background\" aria-hidden=\"true\" d=\"M0,0h88v79h-88Z\" pointer-events=\"none\"/><g><g class=\"mark-group role-legend-entry\"><g transform=\"translate(0,16)\"><path class=\"background\" aria-hidden=\"true\" d=\"M0,0h0v0h0Z\" pointer-events=\"none\"/><g><g class=\"mark-group role-scope\" role=\"graphics-object\" aria-roledescription=\"group mark container\"><g transform=\"translate(0,0)\"><path class=\"background\" aria-hidden=\"true\" d=\"M0,0h63.1044921875v11h-63.1044921875Z\" pointer-events=\"none\" opacity=\"1\"/><g><g class=\"mark-symbol role-legend-symbol\" pointer-events=\"none\"><path transform=\"translate(6,6)\" d=\"M5,0A5,5,0,1,1,-5,0A5,5,0,1,1,5,0\" fill=\"#4c78a8\" stroke-width=\"1.5\" opacity=\"1\"/></g><g class=\"mark-text role-legend-label\" pointer-events=\"none\"><text text-anchor=\"start\" transform=\"translate(16,9)\" font-family=\"sans-serif\" font-size=\"10px\" fill=\"#000\" opacity=\"1\">FPT</text></g></g><path class=\"foreground\" aria-hidden=\"true\" d=\"\" pointer-events=\"none\" display=\"none\"/></g><g transform=\"translate(0,13)\"><path class=\"background\" aria-hidden=\"true\" d=\"M0,0h63.1044921875v11h-63.1044921875Z\" pointer-events=\"none\" opacity=\"1\"/><g><g class=\"mark-symbol role-legend-symbol\" pointer-events=\"none\"><path transform=\"translate(6,6)\" d=\"M5,0A5,5,0,1,1,-5,0A5,5,0,1,1,5,0\" fill=\"#f58518\" stroke-width=\"1.5\" opacity=\"1\"/></g><g class=\"mark-text role-legend-label\" pointer-events=\"none\"><text text-anchor=\"start\" transform=\"translate(16,9)\" font-family=\"sans-serif\" font-size=\"10px\" fill=\"#000\" opacity=\"1\">OpenDAP</text></g></g><path class=\"foreground\" aria-hidden=\"true\" d=\"\" pointer-events=\"none\" display=\"none\"/></g><g transform=\"translate(0,26)\"><path class=\"background\" aria-hidden=\"true\" d=\"M0,0h63.1044921875v11h-63.1044921875Z\" pointer-events=\"none\" opacity=\"1\"/><g><g class=\"mark-symbol role-legend-symbol\" pointer-events=\"none\"><path transform=\"translate(6,6)\" d=\"M5,0A5,5,0,1,1,-5,0A5,5,0,1,1,5,0\" fill=\"#e45756\" stroke-width=\"1.5\" opacity=\"1\"/></g><g class=\"mark-text role-legend-label\" pointer-events=\"none\"><text text-anchor=\"start\" transform=\"translate(16,9)\" font-family=\"sans-serif\" font-size=\"10px\" fill=\"#000\" opacity=\"1\">REST</text></g></g><path class=\"foreground\" aria-hidden=\"true\" d=\"\" pointer-events=\"none\" display=\"none\"/></g><g transform=\"translate(0,39)\"><path class=\"background\" aria-hidden=\"true\" d=\"M0,0h63.1044921875v11h-63.1044921875Z\" pointer-events=\"none\" opacity=\"1\"/><g><g class=\"mark-symbol role-legend-symbol\" pointer-events=\"none\"><path transform=\"translate(6,6)\" d=\"M5,0A5,5,0,1,1,-5,0A5,5,0,1,1,5,0\" fill=\"#72b7b2\" stroke-width=\"1.5\" opacity=\"1\"/></g><g class=\"mark-text role-legend-label\" pointer-events=\"none\"><text text-anchor=\"start\" transform=\"translate(16,9)\" font-family=\"sans-serif\" font-size=\"10px\" fill=\"#000\" opacity=\"1\">其他</text></g></g><path class=\"foreground\" aria-hidden=\"true\" d=\"\" pointer-events=\"none\" display=\"none\"/></g><g transform=\"translate(0,52)\"><path class=\"background\" aria-hidden=\"true\" d=\"M0,0h63.1044921875v11h-63.1044921875Z\" pointer-events=\"none\" opacity=\"1\"/><g><g class=\"mark-symbol role-legend-symbol\" pointer-events=\"none\"><path transform=\"translate(6,6)\" d=\"M5,0A5,5,0,1,1,-5,0A5,5,0,1,1,5,0\" fill=\"#54a24b\" stroke-width=\"1.5\" opacity=\"1\"/></g><g class=\"mark-text role-legend-label\" pointer-events=\"none\"><text text-anchor=\"start\" transform=\"translate(16,9)\" font-family=\"sans-serif\" font-size=\"10px\" fill=\"#000\" opacity=\"1\">无</text></g></g><path class=\"foreground\" aria-hidden=\"true\" d=\"\" pointer-events=\"none\" display=\"none\"/></g></g></g><path class=\"foreground\" aria-hidden=\"true\" d=\"\" pointer-events=\"none\" display=\"none\"/></g></g><g class=\"mark-text role-legend-title\" pointer-events=\"none\"><text text-anchor=\"start\" transform=\"translate(0,9)\" font-family=\"sans-serif\" font-size=\"11px\" font-weight=\"bold\" fill=\"#000\" opacity=\"1\">应用程序接口方式</text></g></g><path class=\"foreground\" aria-hidden=\"true\" d=\"\" pointer-events=\"none\" display=\"none\"/></g></g></g><path class=\"foreground\" aria-hidden=\"true\" d=\"\" display=\"none\"/></g></g></g></svg>"
      ],
      "text/plain": [
       "@vlplot(\n",
       "    view={\n",
       "        stroke=nothing\n",
       "    },\n",
       "    mark=\"arc\",\n",
       "    encoding={\n",
       "        theta={\n",
       "            stack=true,\n",
       "            field=\"count\"\n",
       "        },\n",
       "        color={\n",
       "            title=\"应用程序接口方式\",\n",
       "            field=\"api\"\n",
       "        },\n",
       "        order={\n",
       "            field=\"count\"\n",
       "        }\n",
       "    },\n",
       "    data={\n",
       "        values=...\n",
       "    }\n",
       ")"
      ]
     },
     "metadata": {},
     "output_type": "display_data"
    }
   ],
   "source": [
    "data = DataFrame(\n",
    "    api=[\"FPT\", \"OpenDAP\", \"REST\", \"其他\", \"无\"],\n",
    "    count=[4, 2, 2, 1, 2]\n",
    ")\n",
    "\n",
    "data |> @vlplot(:arc,\n",
    "    theta = {:count, stack = true},\n",
    "    color = {:api, title = \"应用程序接口方式\"},\n",
    "    order = :count,\n",
    "    color=\"category:n\"\n",
    "    view = {stroke = nothing}\n",
    ")"
   ]
  },
  {
   "cell_type": "code",
   "execution_count": 6,
   "metadata": {},
   "outputs": [
    {
     "data": {
      "application/vnd.vegalite.v5+json": {
       "data": {
        "values": [
         {
          "count": 5,
          "pidSystem": "DOI"
         },
         {
          "count": 1,
          "pidSystem": "其他"
         },
         {
          "count": 2,
          "pidSystem": "无"
         }
        ]
       },
       "encoding": {
        "color": {
         "field": "pidSystem",
         "title": "永久标识方式",
         "type": "nominal"
        },
        "order": {
         "field": "count",
         "type": "quantitative"
        },
        "theta": {
         "field": "count",
         "type": "quantitative"
        }
       },
       "mark": "arc",
       "view": {
        "stroke": null
       }
      },
      "image/png": "[encoded data removed]",
      "image/svg+xml": [
       "<svg xmlns=\"http://www.w3.org/2000/svg\" xmlns:xlink=\"http://www.w3.org/1999/xlink\" version=\"1.1\" class=\"marks\" width=\"294\" height=\"210\" viewBox=\"0 0 294 210\"><rect width=\"294\" height=\"210\" fill=\"white\"/><g fill=\"none\" stroke-miterlimit=\"10\" transform=\"translate(5,5)\"><g class=\"mark-group role-frame root\" role=\"graphics-object\" aria-roledescription=\"group mark container\"><g transform=\"translate(0,0)\"><path class=\"background\" aria-hidden=\"true\" d=\"M0,0h200v200h-200Z\"/><g><g class=\"mark-arc role-mark marks\" role=\"graphics-object\" aria-roledescription=\"arc mark container\"><path aria-label=\"count: 5; 永久标识方式: DOI\" role=\"graphics-symbol\" aria-roledescription=\"arc mark\" transform=\"translate(100,100)\" d=\"M0,-100A100,100,0,1,0,70.711,70.711L0,0Z\" fill=\"#4c78a8\"/><path aria-label=\"count: 1; 永久标识方式: 其他\" role=\"graphics-symbol\" aria-roledescription=\"arc mark\" transform=\"translate(100,100)\" d=\"M70.711,-70.711A100,100,0,0,0,0,-100L0,0Z\" fill=\"#f58518\"/><path aria-label=\"count: 2; 永久标识方式: 无\" role=\"graphics-symbol\" aria-roledescription=\"arc mark\" transform=\"translate(100,100)\" d=\"M70.711,70.711A100,100,0,0,0,70.711,-70.711L0,0Z\" fill=\"#e45756\"/></g><g class=\"mark-group role-legend\" role=\"graphics-symbol\" aria-roledescription=\"legend\" aria-label=\"Symbol legend titled '永久标识方式' for fill color with 3 values: DOI, 其他, 无\"><g transform=\"translate(218,0)\"><path class=\"background\" aria-hidden=\"true\" d=\"M0,0h66v53h-66Z\" pointer-events=\"none\"/><g><g class=\"mark-group role-legend-entry\"><g transform=\"translate(0,16)\"><path class=\"background\" aria-hidden=\"true\" d=\"M0,0h0v0h0Z\" pointer-events=\"none\"/><g><g class=\"mark-group role-scope\" role=\"graphics-object\" aria-roledescription=\"group mark container\"><g transform=\"translate(0,0)\"><path class=\"background\" aria-hidden=\"true\" d=\"M0,0h36v11h-36Z\" pointer-events=\"none\" opacity=\"1\"/><g><g class=\"mark-symbol role-legend-symbol\" pointer-events=\"none\"><path transform=\"translate(6,6)\" d=\"M5,0A5,5,0,1,1,-5,0A5,5,0,1,1,5,0\" fill=\"#4c78a8\" stroke-width=\"1.5\" opacity=\"1\"/></g><g class=\"mark-text role-legend-label\" pointer-events=\"none\"><text text-anchor=\"start\" transform=\"translate(16,9)\" font-family=\"sans-serif\" font-size=\"10px\" fill=\"#000\" opacity=\"1\">DOI</text></g></g><path class=\"foreground\" aria-hidden=\"true\" d=\"\" pointer-events=\"none\" display=\"none\"/></g><g transform=\"translate(0,13)\"><path class=\"background\" aria-hidden=\"true\" d=\"M0,0h36v11h-36Z\" pointer-events=\"none\" opacity=\"1\"/><g><g class=\"mark-symbol role-legend-symbol\" pointer-events=\"none\"><path transform=\"translate(6,6)\" d=\"M5,0A5,5,0,1,1,-5,0A5,5,0,1,1,5,0\" fill=\"#f58518\" stroke-width=\"1.5\" opacity=\"1\"/></g><g class=\"mark-text role-legend-label\" pointer-events=\"none\"><text text-anchor=\"start\" transform=\"translate(16,9)\" font-family=\"sans-serif\" font-size=\"10px\" fill=\"#000\" opacity=\"1\">其他</text></g></g><path class=\"foreground\" aria-hidden=\"true\" d=\"\" pointer-events=\"none\" display=\"none\"/></g><g transform=\"translate(0,26)\"><path class=\"background\" aria-hidden=\"true\" d=\"M0,0h36v11h-36Z\" pointer-events=\"none\" opacity=\"1\"/><g><g class=\"mark-symbol role-legend-symbol\" pointer-events=\"none\"><path transform=\"translate(6,6)\" d=\"M5,0A5,5,0,1,1,-5,0A5,5,0,1,1,5,0\" fill=\"#e45756\" stroke-width=\"1.5\" opacity=\"1\"/></g><g class=\"mark-text role-legend-label\" pointer-events=\"none\"><text text-anchor=\"start\" transform=\"translate(16,9)\" font-family=\"sans-serif\" font-size=\"10px\" fill=\"#000\" opacity=\"1\">无</text></g></g><path class=\"foreground\" aria-hidden=\"true\" d=\"\" pointer-events=\"none\" display=\"none\"/></g></g></g><path class=\"foreground\" aria-hidden=\"true\" d=\"\" pointer-events=\"none\" display=\"none\"/></g></g><g class=\"mark-text role-legend-title\" pointer-events=\"none\"><text text-anchor=\"start\" transform=\"translate(0,9)\" font-family=\"sans-serif\" font-size=\"11px\" font-weight=\"bold\" fill=\"#000\" opacity=\"1\">永久标识方式</text></g></g><path class=\"foreground\" aria-hidden=\"true\" d=\"\" pointer-events=\"none\" display=\"none\"/></g></g></g><path class=\"foreground\" aria-hidden=\"true\" d=\"\" display=\"none\"/></g></g></g></svg>"
      ],
      "text/plain": [
       "@vlplot(\n",
       "    view={\n",
       "        stroke=nothing\n",
       "    },\n",
       "    mark=\"arc\",\n",
       "    encoding={\n",
       "        theta={\n",
       "            field=\"count\"\n",
       "        },\n",
       "        color={\n",
       "            title=\"永久标识方式\",\n",
       "            field=\"pidSystem\"\n",
       "        },\n",
       "        order={\n",
       "            field=\"count\"\n",
       "        }\n",
       "    },\n",
       "    data={\n",
       "        values=...\n",
       "    }\n",
       ")"
      ]
     },
     "metadata": {},
     "output_type": "display_data"
    }
   ],
   "source": [
    "\n",
    "data = DataFrame(\n",
    "    pidSystem=[\"DOI\", \"其他\", \"无\"],\n",
    "    count=[5, 1, 2]\n",
    ")\n",
    "\n",
    "data |> @vlplot(:arc,\n",
    "    theta = :count,\n",
    "    color = {:pidSystem, title = \"永久标识方式\"},\n",
    "    order = :count,\n",
    "    view = {stroke = nothing}\n",
    ")\n"
   ]
  }
 ],
 "metadata": {
  "kernelspec": {
   "display_name": "Julia 1.9.4",
   "language": "julia",
   "name": "julia-1.9"
  },
  "language_info": {
   "file_extension": ".jl",
   "mimetype": "application/julia",
   "name": "julia",
   "version": "1.9.4"
  },
  "orig_nbformat": 4
 },
 "nbformat": 4,
 "nbformat_minor": 2
}
