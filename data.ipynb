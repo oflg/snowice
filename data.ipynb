{
 "cells": [
  {
   "cell_type": "code",
   "execution_count": 3,
   "metadata": {},
   "outputs": [
    {
     "name": "stderr",
     "output_type": "stream",
     "text": [
      "\u001b[32m\u001b[1m  Activating\u001b[22m\u001b[39m project at `~/Code/ucas/论文/雪冰科学数据中心`\n"
     ]
    }
   ],
   "source": [
    "# 安装环境\n",
    "using Pkg\n",
    "Pkg.activate(@__DIR__)\n",
    "# Pkg.add(\"HTTP\")\n",
    "# Pkg.add(\"LightXML\")\n",
    "# Pkg.add(\"CSV\")\n",
    "Pkg.instantiate()"
   ]
  },
  {
   "cell_type": "code",
   "execution_count": 4,
   "metadata": {},
   "outputs": [],
   "source": [
    "\n",
    "# 导入CSV和LightXML包\n",
    "using HTTP\n",
    "using CSV\n",
    "using LightXML"
   ]
  },
  {
   "cell_type": "code",
   "execution_count": 5,
   "metadata": {},
   "outputs": [],
   "source": [
    "root_path = joinpath(dirname(@__FILE__));"
   ]
  },
  {
   "cell_type": "code",
   "execution_count": 6,
   "metadata": {},
   "outputs": [
    {
     "data": {
      "text/plain": [
       "get_xml (generic function with 1 method)"
      ]
     },
     "metadata": {},
     "output_type": "display_data"
    }
   ],
   "source": [
    "# 获取api 数据\n",
    "function get_xml(url)\n",
    "    r = HTTP.request(\"GET\", url)\n",
    "\n",
    "    # 读取xml文件\n",
    "    parse_string(String(r.body))\n",
    "end"
   ]
  },
  {
   "cell_type": "code",
   "execution_count": 7,
   "metadata": {},
   "outputs": [
    {
     "ename": "ErrorException",
     "evalue": "syntax: cannot juxtapose string literal",
     "output_type": "error",
     "traceback": [
      "syntax: cannot juxtapose string literal\n",
      "\n",
      "Stacktrace:\n",
      " [1] top-level scope\n",
      "   @ ~/Code/ucas/论文/雪冰科学数据中心/data.ipynb:1"
     ]
    }
   ],
   "source": [
    "reps_xml = get_xml(\"https://www.re3data.org/api/beta/repositories?query=national+%2B+snow+%7C+ice+%7C+glacier+%7C+cryosphere+%2B+\"data+center\"\")\n",
    "reps = root(reps_xml)\n",
    "# 获取所有repository节点\n",
    "repos = get_elements_by_tagname(reps, \"repository\");"
   ]
  },
  {
   "cell_type": "code",
   "execution_count": 8,
   "metadata": {},
   "outputs": [
    {
     "ename": "UndefVarError",
     "evalue": "UndefVarError: `repos` not defined",
     "output_type": "error",
     "traceback": [
      "UndefVarError: `repos` not defined\n",
      "\n",
      "Stacktrace:\n",
      " [1] top-level scope\n",
      "   @ ~/Code/ucas/论文/雪冰科学数据中心/data.ipynb:1"
     ]
    }
   ],
   "source": [
    "typeof(repos) <: Array\n",
    "# XMLElement\n",
    "\n",
    "# typeof(find_element(repos[1], \"name\"))"
   ]
  },
  {
   "cell_type": "code",
   "execution_count": 9,
   "metadata": {},
   "outputs": [
    {
     "ename": "UndefVarError",
     "evalue": "UndefVarError: `repos` not defined",
     "output_type": "error",
     "traceback": [
      "UndefVarError: `repos` not defined\n",
      "\n",
      "Stacktrace:\n",
      " [1] top-level scope\n",
      "   @ ~/Code/ucas/论文/雪冰科学数据中心/data.ipynb:6"
     ]
    }
   ],
   "source": [
    "\n",
    "# 创建一个空数组来存储提取的信息\n",
    "data = []\n",
    "\n",
    "# 遍历每个repository节点\n",
    "for repo in repos\n",
    "\n",
    "    # 获取repository名称和标识符\n",
    "    name = content(find_element(repo, \"name\"))\n",
    "    id = content(find_element(repo, \"id\"))\n",
    "    doi = content(find_element(repo, \"doi\"))\n",
    "\n",
    "    repo_xml = get_xml(\"https://www.re3data.org/api/beta/repository/$id\")\n",
    "    # re = find_element(repo_xml, \"repository\")\n",
    "\n",
    "    # 将元数据添加到数组中\n",
    "    push!(data, (\n",
    "        name=name,\n",
    "        id=id,\n",
    "        doi=doi,\n",
    "        metadata=repo_xml,\n",
    "        # repositoryURL = content(find_element(re, \"repositoryURL\")),\n",
    "        # additionalName = content(find_element(re, \"additionalName\")),\n",
    "        # repositoryURL = content(find_element(repository, \"repositoryURL\")),\n",
    "        # repositoryURL = content(find_element(repository, \"repositoryURL\")),\n",
    "        # repositoryURL = content(find_element(repository, \"repositoryURL\")),\n",
    "        # repositoryURL = content(find_element(repository, \"repositoryURL\")),\n",
    "        # repositoryURL = content(find_element(repository, \"repositoryURL\")),\n",
    "        # repositoryURL = content(find_element(repository, \"repositoryURL\"))\n",
    "    ))\n",
    "    # break\n",
    "end\n",
    "\n",
    "# 将数组写入csv文件\n",
    "CSV.write(joinpath(root_path, \"data\", \"snow_ice_data.csv\"), data)"
   ]
  }
 ],
 "metadata": {
  "kernelspec": {
   "display_name": "Julia 1.9.4",
   "language": "julia",
   "name": "julia-1.9"
  },
  "language_info": {
   "file_extension": ".jl",
   "mimetype": "application/julia",
   "name": "julia",
   "version": "1.9.4"
  },
  "orig_nbformat": 4
 },
 "nbformat": 4,
 "nbformat_minor": 2
}
