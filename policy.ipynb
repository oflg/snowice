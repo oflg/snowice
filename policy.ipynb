{
 "cells": [
  {
   "cell_type": "code",
   "execution_count": 1,
   "metadata": {},
   "outputs": [
    {
     "name": "stderr",
     "output_type": "stream",
     "text": [
      "\u001b[32m\u001b[1m  Activating\u001b[22m\u001b[39m project at `~/Code/ucas/论文/雪冰科学数据中心`\n"
     ]
    }
   ],
   "source": [
    "# 安装环境\n",
    "using Pkg\n",
    "Pkg.activate(@__DIR__)\n",
    "Pkg.instantiate()\n",
    "using CSV, LightXML, DataFrames, PyCall"
   ]
  },
  {
   "cell_type": "code",
   "execution_count": 2,
   "metadata": {},
   "outputs": [],
   "source": [
    "df = CSV.read(joinpath(@__DIR__, \"data\", \"snow_ice_data_mo.csv\"), DataFrame)\n",
    "metas = df[!, :metadata];"
   ]
  },
  {
   "cell_type": "code",
   "execution_count": 3,
   "metadata": {},
   "outputs": [
    {
     "data": {
      "text/plain": [
       "cn (generic function with 1 method)"
      ]
     },
     "metadata": {},
     "output_type": "display_data"
    }
   ],
   "source": [
    "@pyimport deep_translator\n",
    "\n",
    "function cn(text)\n",
    "    if text == \"International\"\n",
    "        \"国际\"\n",
    "    elseif text == \"European Union\"\n",
    "        \"欧盟\"\n",
    "    elseif text == \"National Cryosphere Desert Data Center\"\n",
    "        \"国家冰川冻土沙漠科学数据中心\"\n",
    "    else\n",
    "        deep_translator.GoogleTranslator(source=\"auto\", target=\"zh-CN\").translate(text)\n",
    "    end\n",
    "end"
   ]
  },
  {
   "cell_type": "code",
   "execution_count": 4,
   "metadata": {},
   "outputs": [
    {
     "data": {
      "text/plain": [
       "country (generic function with 1 method)"
      ]
     },
     "metadata": {},
     "output_type": "display_data"
    }
   ],
   "source": [
    "@pyimport pycountry\n",
    "\n",
    "function country(alpha_3)\n",
    "    if alpha_3 == \"AAA\"\n",
    "        \"International\"\n",
    "    elseif alpha_3 == \"EEC\"\n",
    "        \"European Union\"\n",
    "    else\n",
    "        pycountry.countries.get(alpha_3=alpha_3).name\n",
    "    end\n",
    "end"
   ]
  },
  {
   "cell_type": "code",
   "execution_count": 5,
   "metadata": {},
   "outputs": [
    {
     "name": "stdout",
     "output_type": "stream",
     "text": [
      "国家冰雪数据中心\n"
     ]
    },
    {
     "name": "stdout",
     "output_type": "stream",
     "text": [
      "剑桥世界冰川学数据中心\n"
     ]
    },
    {
     "name": "stdout",
     "output_type": "stream",
     "text": [
      "国家冰川冻土沙漠科学数据中心\n"
     ]
    },
    {
     "name": "stdout",
     "output_type": "stream",
     "text": [
      "国家极地研究所科学数据库\n"
     ]
    },
    {
     "name": "stdout",
     "output_type": "stream",
     "text": [
      "综合气候数据中心\n"
     ]
    },
    {
     "name": "stdout",
     "output_type": "stream",
     "text": [
      "NOAA 国家环境信息中心 - 古气候数据\n"
     ]
    },
    {
     "name": "stdout",
     "output_type": "stream",
     "text": [
      "美国南极计划数据中心\n"
     ]
    }
   ],
   "source": [
    "infos = []\n",
    "\n",
    "for meta in metas\n",
    "    # 名称、网址、所属机构、所在国家或国际组织、数据中心简介、特色及特有资源。\n",
    "    xml = parse_string(meta)\n",
    "    xml_root = root(xml)\n",
    "    repo = find_element(xml_root, \"repository\")\n",
    "    orgIdentifier = content(find_element(repo, \"re3data.orgIdentifier\"))\n",
    "    repositoryName = cn(content(find_element(repo, \"repositoryName\")))\n",
    "    repositoryURL = content(find_element(repo, \"repositoryURL\"))\n",
    "\n",
    "    println(repositoryName)\n",
    "\n",
    "    # 国家、机构相关数据\n",
    "    institutions_array = []\n",
    "    countries_array = []\n",
    "    institutions_xml = get_elements_by_tagname(repo, \"institution\")\n",
    "\n",
    "    for inst in institutions_xml\n",
    "        institutionName = content(find_element(inst, \"institutionName\"))\n",
    "        institutionCountry = country(content(find_element(inst, \"institutionCountry\")))\n",
    "\n",
    "        responsibilityType_array = []\n",
    "        responsibilityType_xml = get_elements_by_tagname(inst, \"responsibilityType\")\n",
    "\n",
    "        for responsibilityType in responsibilityType_xml\n",
    "            # print(responsibilityType)\n",
    "            responsibilityType = content(responsibilityType)\n",
    "            push!(responsibilityType_array, responsibilityType)\n",
    "        end\n",
    "\n",
    "        responsibilityTypes = join(responsibilityType_array, \"; \")\n",
    "\n",
    "        inst = \"$institutionName($responsibilityTypes)\"\n",
    "        push!(institutions_array, inst)\n",
    "        push!(countries_array, institutionCountry)\n",
    "    end\n",
    "\n",
    "    countryCn = cn(countries_array[1])\n",
    "    institutions = cn(join(institutions_array, \"; \"))\n",
    "    institutionCount = length(institutions_array)\n",
    "\n",
    "    # 政策相关数据\n",
    "    policies_array = []\n",
    "    policy_xml = get_elements_by_tagname(repo, \"policy\")\n",
    "\n",
    "    for policy in policy_xml\n",
    "        policyURL = content(find_element(policy, \"policyURL\"))\n",
    "        push!(policies_array, policyURL)\n",
    "    end\n",
    "\n",
    "    policies = join(unique(policies_array), \"; \")\n",
    "    policyCount = length(policies_array)\n",
    "\n",
    "    # 数据内容相关数据\n",
    "    entryDate = content(find_element(repo, \"entryDate\"))\n",
    "    lastUpdate= content(find_element(repo, \"lastUpdate\"))\n",
    "    contentType_array = []\n",
    "    contentType_xml = get_elements_by_tagname(repo, \"contentType\")\n",
    "\n",
    "    for contentType in contentType_xml\n",
    "        contentType = content(contentType)\n",
    "        push!(contentType_array, contentType)\n",
    "    end\n",
    "\n",
    "    contentTypes = cn(join(unique(contentType_array), \"; \"))\n",
    "    contentTypeCount = length(contentType_array)\n",
    "\n",
    "    # 数据共享技术\n",
    "    pidSystem_array = []\n",
    "    pidSystem_xml = get_elements_by_tagname(repo, \"pidSystem\")\n",
    "\n",
    "    for pidSystem in pidSystem_xml\n",
    "        pidSystem = content(pidSystem)\n",
    "        push!(pidSystem_array, pidSystem)\n",
    "    end\n",
    "\n",
    "    pidSystems = cn(join(unique(pidSystem_array), \"; \"))\n",
    "    pidSystemCount = length(pidSystem_array)\n",
    "\n",
    "    api_array = []\n",
    "    api_xml = get_elements_by_tagname(repo, \"api\")\n",
    "\n",
    "    for api in api_xml\n",
    "        api=attribute(api, \"apiType\")\n",
    "        push!(api_array, api)\n",
    "    end\n",
    "\n",
    "    apis = join(unique(api_array), \"; \")\n",
    "    apiCount = length(api_array)\n",
    "\n",
    "    # 数据访问许可\n",
    "    dataAccess_array = []\n",
    "    dataAccess_xml = get_elements_by_tagname(repo, \"dataAccess\")\n",
    "\n",
    "    for dataAccess in dataAccess_xml\n",
    "        dataAccess = content(dataAccess)\n",
    "        push!(dataAccess_array, dataAccess)\n",
    "    end\n",
    "\n",
    "    dataAccesses = cn(join(unique(dataAccess_array), \"; \"))\n",
    "    dataAccessCount = length(dataAccess_array)\n",
    "\n",
    "    # 将元数据添加到数组中\n",
    "    push!(infos, (\n",
    "        orgIdentifier=orgIdentifier,\n",
    "        name=repositoryName,\n",
    "        repositoryURL=repositoryURL,\n",
    "        country=countryCn,\n",
    "        institutions=institutions,\n",
    "        institutionCount=institutionCount,\n",
    "        policies=policies,\n",
    "        policyCount=policyCount,\n",
    "        entryDate=entryDate,\n",
    "        lastUpdate=lastUpdate,\n",
    "        contentTypes=contentTypes,\n",
    "        contentTypeCount=contentTypeCount,\n",
    "        pidSystems=pidSystems,\n",
    "        pidSystemCount=pidSystemCount,\n",
    "        apis=apis,\n",
    "        apiCount=apiCount,\n",
    "        dataAccesses=dataAccesses,\n",
    "        dataAccessCount=dataAccessCount\n",
    "    ))\n",
    "    # break\n",
    "end\n",
    "infos\n",
    "# text\n",
    "# 将数组写入csv文件\n",
    "CSV.write(joinpath(@__DIR__, \"data\", \"snow_ice_policy.csv\"), infos);"
   ]
  }
 ],
 "metadata": {
  "kernelspec": {
   "display_name": "Julia 1.9.2",
   "language": "julia",
   "name": "julia-1.9"
  },
  "language_info": {
   "file_extension": ".jl",
   "mimetype": "application/julia",
   "name": "julia",
   "version": "1.9.2"
  },
  "orig_nbformat": 4
 },
 "nbformat": 4,
 "nbformat_minor": 2
}
